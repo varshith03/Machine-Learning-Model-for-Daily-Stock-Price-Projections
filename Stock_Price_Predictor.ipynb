{
 "cells": [
  {
   "cell_type": "code",
   "execution_count": 2,
   "metadata": {},
   "outputs": [
    {
     "name": "stdout",
     "output_type": "stream",
     "text": [
      "Predicted Closing Price for the next day: 744.5216326564059\n"
     ]
    },
    {
     "name": "stderr",
     "output_type": "stream",
     "text": [
      "d:\\python\\Lib\\site-packages\\sklearn\\base.py:465: UserWarning: X does not have valid feature names, but StandardScaler was fitted with feature names\n",
      "  warnings.warn(\n"
     ]
    }
   ],
   "source": [
    "import pandas as pd\n",
    "from sklearn.model_selection import train_test_split\n",
    "from sklearn.linear_model import LinearRegression\n",
    "from sklearn.preprocessing import StandardScaler\n",
    "from sklearn.impute import SimpleImputer\n",
    "\n",
    "# Load the dataset\n",
    "df = pd.read_csv(r'D:\\stocks_dataset\\ADANIPORTS.csv')\n",
    "\n",
    "# Handle missing values in numeric columns\n",
    "numeric_columns = df.select_dtypes(include=['float64', 'int64']).columns\n",
    "imputer = SimpleImputer(strategy='mean')\n",
    "df[numeric_columns] = imputer.fit_transform(df[numeric_columns])\n",
    "\n",
    "# Select features and target variable\n",
    "features = df[numeric_columns]\n",
    "\n",
    "# Shift the 'Close' column to create the target variable\n",
    "df['Target'] = df['Close'].shift(-1)\n",
    "\n",
    "# Drop the last row as it has NaN in the target variable\n",
    "df = df[:-1]\n",
    "\n",
    "# Drop rows with NaN in the target variable\n",
    "df = df.dropna(subset=['Target'])\n",
    "\n",
    "# Select features and target variable after shifting\n",
    "X_train = df[numeric_columns]\n",
    "y_train = df['Target']\n",
    "\n",
    "# Train the model\n",
    "scaler = StandardScaler()\n",
    "X_train_scaled = scaler.fit_transform(X_train)\n",
    "\n",
    "model = LinearRegression()\n",
    "model.fit(X_train_scaled, y_train)\n",
    "\n",
    "# Create a new data point for the next day (you can adjust these values)\n",
    "new_data_features = df.iloc[-1][numeric_columns]  # Using the last row of the dataset as an example\n",
    "\n",
    "# Use the model for prediction\n",
    "new_data_scaled = scaler.transform([new_data_features])\n",
    "predicted_price = model.predict(new_data_scaled)[0]\n",
    "\n",
    "# Display only the predicted closing price for the next day\n",
    "print(f'Predicted Closing Price for the next day: {predicted_price}')\n"
   ]
  }
 ],
 "metadata": {
  "kernelspec": {
   "display_name": "Python 3",
   "language": "python",
   "name": "python3"
  },
  "language_info": {
   "codemirror_mode": {
    "name": "ipython",
    "version": 3
   },
   "file_extension": ".py",
   "mimetype": "text/x-python",
   "name": "python",
   "nbconvert_exporter": "python",
   "pygments_lexer": "ipython3",
   "version": "3.12.0"
  }
 },
 "nbformat": 4,
 "nbformat_minor": 2
}
